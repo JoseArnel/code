{
 "cells": [
  {
   "cell_type": "code",
   "execution_count": 1,
   "id": "4bb63706",
   "metadata": {},
   "outputs": [],
   "source": [
    "import pandas as pd"
   ]
  },
  {
   "cell_type": "code",
   "execution_count": 2,
   "id": "39f630de",
   "metadata": {},
   "outputs": [],
   "source": [
    "# conda install sqlalchemy, conda install lxml, conda install html5lib, conda install BeautifulSoup4"
   ]
  },
  {
   "cell_type": "code",
   "execution_count": 3,
   "id": "f91d5629",
   "metadata": {},
   "outputs": [
    {
     "data": {
      "text/plain": [
       "'/Users/josearnel/Documents/Coding_Den/code/DataScience&MachineLearning'"
      ]
     },
     "execution_count": 3,
     "metadata": {},
     "output_type": "execute_result"
    }
   ],
   "source": [
    "pwd"
   ]
  },
  {
   "cell_type": "code",
   "execution_count": null,
   "id": "33008801",
   "metadata": {},
   "outputs": [],
   "source": [
    "pd.read_csv('')"
   ]
  }
 ],
 "metadata": {
  "kernelspec": {
   "display_name": "Python 3 (ipykernel)",
   "language": "python",
   "name": "python3"
  },
  "language_info": {
   "codemirror_mode": {
    "name": "ipython",
    "version": 3
   },
   "file_extension": ".py",
   "mimetype": "text/x-python",
   "name": "python",
   "nbconvert_exporter": "python",
   "pygments_lexer": "ipython3",
   "version": "3.9.13"
  }
 },
 "nbformat": 4,
 "nbformat_minor": 5
}
